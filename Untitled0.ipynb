{
  "nbformat": 4,
  "nbformat_minor": 0,
  "metadata": {
    "colab": {
      "name": "Untitled0.ipynb",
      "provenance": [],
      "collapsed_sections": [],
      "mount_file_id": "1YnmZ_icX5PYmPleDfhKj7-uQPPNqxQVM",
      "authorship_tag": "ABX9TyOMdB5+/DfUonsxx5U0Q28p",
      "include_colab_link": true
    },
    "kernelspec": {
      "name": "python3",
      "display_name": "Python 3"
    },
    "language_info": {
      "name": "python"
    },
    "accelerator": "GPU"
  },
  "cells": [
    {
      "cell_type": "markdown",
      "metadata": {
        "id": "view-in-github",
        "colab_type": "text"
      },
      "source": [
        "<a href=\"https://colab.research.google.com/github/xiaoxi107/AnonymousLetter/blob/master/Untitled0.ipynb\" target=\"_parent\"><img src=\"https://colab.research.google.com/assets/colab-badge.svg\" alt=\"Open In Colab\"/></a>"
      ]
    },
    {
      "cell_type": "code",
      "metadata": {
        "id": "HHnvsQNnCz0s"
      },
      "source": [
        "import torch"
      ],
      "execution_count": null,
      "outputs": []
    },
    {
      "cell_type": "code",
      "metadata": {
        "colab": {
          "base_uri": "https://localhost:8080/"
        },
        "id": "Oc4l--w2C7pR",
        "outputId": "4e6e2ca0-13f7-456c-9009-b3e9fe6f07a4"
      },
      "source": [
        "!nvidia-smi\n"
      ],
      "execution_count": 2,
      "outputs": [
        {
          "output_type": "stream",
          "text": [
            "Sun Jun 13 11:52:22 2021       \n",
            "+-----------------------------------------------------------------------------+\n",
            "| NVIDIA-SMI 465.27       Driver Version: 460.32.03    CUDA Version: 11.2     |\n",
            "|-------------------------------+----------------------+----------------------+\n",
            "| GPU  Name        Persistence-M| Bus-Id        Disp.A | Volatile Uncorr. ECC |\n",
            "| Fan  Temp  Perf  Pwr:Usage/Cap|         Memory-Usage | GPU-Util  Compute M. |\n",
            "|                               |                      |               MIG M. |\n",
            "|===============================+======================+======================|\n",
            "|   0  Tesla T4            Off  | 00000000:00:04.0 Off |                    0 |\n",
            "| N/A   60C    P8    11W /  70W |      0MiB / 15109MiB |      0%      Default |\n",
            "|                               |                      |                  N/A |\n",
            "+-------------------------------+----------------------+----------------------+\n",
            "                                                                               \n",
            "+-----------------------------------------------------------------------------+\n",
            "| Processes:                                                                  |\n",
            "|  GPU   GI   CI        PID   Type   Process name                  GPU Memory |\n",
            "|        ID   ID                                                   Usage      |\n",
            "|=============================================================================|\n",
            "|  No running processes found                                                 |\n",
            "+-----------------------------------------------------------------------------+\n"
          ],
          "name": "stdout"
        }
      ]
    },
    {
      "cell_type": "code",
      "metadata": {
        "colab": {
          "base_uri": "https://localhost:8080/"
        },
        "id": "zp7n5JBJPZ3Y",
        "outputId": "99a4cfd9-ce0e-41f3-cc27-9221da760317"
      },
      "source": [
        "import glob\n",
        "from google.colab import drive\n",
        "drive.mount('/Data')"
      ],
      "execution_count": 6,
      "outputs": [
        {
          "output_type": "stream",
          "text": [
            "Drive already mounted at /Data; to attempt to forcibly remount, call drive.mount(\"/Data\", force_remount=True).\n"
          ],
          "name": "stdout"
        }
      ]
    },
    {
      "cell_type": "code",
      "metadata": {
        "colab": {
          "base_uri": "https://localhost:8080/"
        },
        "id": "rNzuRhR2P166",
        "outputId": "f8829c92-d2eb-4007-c8d7-b2d3dd7bdece"
      },
      "source": [
        "!ls /Data/'My Drive'"
      ],
      "execution_count": 7,
      "outputs": [
        {
          "output_type": "stream",
          "text": [
            "'Colab Notebooks'   nice.py\n"
          ],
          "name": "stdout"
        }
      ]
    },
    {
      "cell_type": "code",
      "metadata": {
        "id": "ukk7AnBgQJyq"
      },
      "source": [
        "import torch\n",
        "import numpy as np\n",
        "import torch.nn as nn\n",
        "from torch.distributions import Normal\n",
        "import torch.optim as optim\n",
        "from torchvision import transforms, datasets\n",
        "from torchvision.utils import make_grid as make_image_grid\n",
        "import matplotlib.pyplot as plt\n",
        "from torch.distributions import Distribution, Uniform\n",
        "import torch.nn.functional as F\n",
        "import time\n",
        "\n",
        "TRAIN_PATH = r'/Data/My Drive/nice.py'"
      ],
      "execution_count": 11,
      "outputs": []
    },
    {
      "cell_type": "code",
      "metadata": {
        "id": "6fgxfl5zROU7"
      },
      "source": [
        ""
      ],
      "execution_count": null,
      "outputs": []
    },
    {
      "cell_type": "code",
      "metadata": {
        "colab": {
          "base_uri": "https://localhost:8080/",
          "height": 286
        },
        "id": "9E-a5aj8ROa5",
        "outputId": "015b9d6f-0d46-474a-a1a8-40cf3726efc1"
      },
      "source": [
        "import torch\n",
        "import numpy as np\n",
        "import torch.nn as nn\n",
        "from torch.distributions import Normal\n",
        "import torch.optim as optim\n",
        "from torchvision import transforms, datasets\n",
        "from torchvision.utils import make_grid as make_image_grid\n",
        "import matplotlib.pyplot as plt\n",
        "from torch.distributions import Distribution, Uniform\n",
        "import torch.nn.functional as F\n",
        "import time\n",
        "import tensorflow as tf\n",
        "tf.test.gpu_device_name()\n",
        "\n",
        "class CouplingLayer(nn.Module):\n",
        "    def __init__(self, data_dim, hidden_dim, mask, num_layers = 3):\n",
        "        super().__init__()\n",
        "        self.data_dim = data_dim\n",
        "        self.hidden_dim = hidden_dim\n",
        "        self.mask = mask\n",
        "        modules = [nn.Linear(data_dim, hidden_dim), nn.ReLU()]\n",
        "        for i in range(num_layers - 2):\n",
        "            modules.append(nn.Linear(hidden_dim, hidden_dim))\n",
        "            modules.append(nn.ReLU())\n",
        "        modules.append(nn.Linear(hidden_dim, data_dim))\n",
        "        self.m = nn.Sequential(*modules)      \n",
        "    \n",
        "    def forward(self, inputs, invert = False):\n",
        "        if not invert:\n",
        "            x1, x2 = self.mask*inputs, (1-self.mask)*inputs\n",
        "            y1, y2 = x1, x2 + self.m(x1)*(1- self.mask)\n",
        "            return y1 + y2\n",
        "        \n",
        "        else:\n",
        "            y1, y2 = self.mask * inputs, (1- self.mask)*inputs\n",
        "            x1, x2 = y1, y2 - self.m(y1)*(1 - self.mask)\n",
        "            return x1 + x2 \n",
        "        \n",
        "        \n",
        "     \n",
        "class ScalingLayer(nn.Module):\n",
        "    def __init__(self, data_dim):\n",
        "        super().__init__()\n",
        "        self.data_dim = data_dim\n",
        "        self.log_scale_vector = nn.Parameter(torch.randn(1, self.data_dim), requires_grad=True)\n",
        "    \n",
        "    def forward(self, inputs, logdet, invert = False):\n",
        "        log_jacobian = torch.sum(self.log_scale_vector)\n",
        "        if not invert:\n",
        "            return torch.exp(self.log_scale_vector)*inputs,  logdet + log_jacobian\n",
        "        else:\n",
        "            return torch.exp(-self.log_scale_vector)*inputs, logdet - log_jacobian\n",
        "\n",
        "class LogisticDistribution(Distribution):\n",
        "    def __init__(self):\n",
        "        super().__init__()\n",
        "\n",
        "    def log_prob(self, x):\n",
        "        return -(F.softplus(x) + F.softplus(-x))\n",
        "\n",
        "    def sample(self, size):\n",
        "        z = Uniform(torch.FloatTensor([0.]), torch.FloatTensor([1.])).sample(size)\n",
        "        return torch.log(z) - torch.log(1. - z)         \n",
        "\n",
        "class NICE(nn.Module):\n",
        "    def __init__(self, data_dim, hidden_dim, num_layers = 3):\n",
        "        super().__init__()\n",
        "        self.data_dim = data_dim\n",
        "        self.hidden_dim = hidden_dim\n",
        "        self.masks = [self.get_mask(data_dim, i%2 ==0) for i in range(num_layers)]\n",
        "        self.coupling_layers = nn.ModuleList([CouplingLayer(data_dim = data_dim, hidden_dim = hidden_dim, mask = self.masks[i]).cuda() for i in range(len(self.masks))])\n",
        "        self.scaling_layer = ScalingLayer(data_dim).cuda()\n",
        "        self.prior = LogisticDistribution()\n",
        "        \n",
        "    def log_p(self, inputs):\n",
        "        return torch.sum(self.prior.log_prob(inputs), dim = 1)\n",
        "    \n",
        "    def f(self, inputs):\n",
        "        y = inputs\n",
        "        for module in self.coupling_layers:\n",
        "            y = module(y)\n",
        "        logdet = 0.0\n",
        "        y, logdet = self.scaling_layer(y, logdet)\n",
        "        logdet1 = self.log_p(y)\n",
        "        return y, logdet + logdet1\n",
        "    \n",
        "    def f_inverse(self, inputs):\n",
        "        z, _ = self.scaling_layer(inputs, 0, invert = True)\n",
        "        for i, module in reversed(list(enumerate(self.coupling_layers))):\n",
        "            z = module(z, invert = True)\n",
        "        return z\n",
        "    \n",
        "    def sample(self, num_samples):\n",
        "        z = self.prior.sample([num_samples, self.data_dim]).view(-1, self.data_dim).cuda()\n",
        "        return self.f_inverse(z).view(-1, 1, 28, 28)\n",
        "          \n",
        "    def get_mask(self, dim, exchange):\n",
        "        mask = torch.zeros(dim).cuda()\n",
        "        mask[::2] = 1.\n",
        "        if exchange:\n",
        "            mask = 1.0 - mask  \n",
        "        return mask\n",
        "\n",
        "# Data\n",
        "transform = transforms.ToTensor()\n",
        "dataset = datasets.MNIST(root='./mnist', train = True, transform = transform, download=True)\n",
        "dataloader = torch.utils.data.DataLoader(dataset = dataset, batch_size= 400, shuffle= True)\n",
        "\n",
        "\n",
        "def train(epoch):\n",
        "    mean_likelihood = 0.0\n",
        "    num_batch = 0\n",
        "    for batch_id, (x, _) in enumerate(dataloader):\n",
        "        x = x.view(-1, 784) + torch.rand(784)/256.\n",
        "        x = x.cuda()\n",
        "        x = torch.clamp(x, 0, 1)\n",
        "        outputs, logdet = model.f(x)\n",
        "        loss = -torch.mean(logdet)\n",
        "        loss.backward()\n",
        "        opt.step()\n",
        "        model.zero_grad()\n",
        "        mean_likelihood -= loss.cpu().detach().numpy()\n",
        "        num_batch += 1\n",
        "    mean_likelihood /= num_batch\n",
        "    if epoch % 1 == 0:\n",
        "        print('Epoch {} completed, likelihood:{}'.format(epoch, mean_likelihood))\n",
        "        \n",
        "# model = NICE(784, 1000)\n",
        "# model = model.cuda()\n",
        "# opt = optim.Adam(model.parameters())\n",
        "# epochs = 10\n",
        "# start = time.time()\n",
        "# for i in range(epochs):\n",
        "#     train(i)  \n",
        "#     print('time:', time.time() - start)\n",
        "# torch.save(model, 'nice.pt')\n",
        "model = torch.load('nice.pt')\n",
        "samples = model.sample(200).data.detach().cpu()\n",
        "images, _ = iter(dataloader).next()\n",
        "outimage = make_image_grid(samples)\n",
        "plt.imshow(np.transpose(outimage, (1, 2, 0)))\n",
        "plt.show()\n"
      ],
      "execution_count": 2,
      "outputs": [
        {
          "output_type": "stream",
          "text": [
            "Clipping input data to the valid range for imshow with RGB data ([0..1] for floats or [0..255] for integers).\n"
          ],
          "name": "stderr"
        },
        {
          "output_type": "display_data",
          "data": {
            "image/png": "[encoded data removed]",
            "text/plain": [
              "<Figure size 432x288 with 1 Axes>"
            ]
          },
          "metadata": {
            "tags": [],
            "needs_background": "light"
          }
        }
      ]
    },
    {
      "cell_type": "markdown",
      "metadata": {
        "id": "fAOlie0TXD-a"
      },
      "source": [
        "# 新段落"
      ]
    },
    {
      "cell_type": "code",
      "metadata": {
        "colab": {
          "base_uri": "https://localhost:8080/",
          "height": 35
        },
        "id": "UHeYRpAdVbug",
        "outputId": "873028ea-a921-433f-8435-e16c0ffdb8f7"
      },
      "source": [
        ""
      ],
      "execution_count": 1,
      "outputs": [
        {
          "output_type": "execute_result",
          "data": {
            "application/vnd.google.colaboratory.intrinsic+json": {
              "type": "string"
            },
            "text/plain": [
              "'/device:GPU:0'"
            ]
          },
          "metadata": {
            "tags": []
          },
          "execution_count": 1
        }
      ]
    },
    {
      "cell_type": "markdown",
      "metadata": {
        "id": "r__LTEQUC9Og"
      },
      "source": [
        ""
      ]
    }
  ]
}